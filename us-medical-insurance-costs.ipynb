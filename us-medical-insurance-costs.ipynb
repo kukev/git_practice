{
 "cells": [
  {
   "cell_type": "markdown",
   "metadata": {},
   "source": [
    "# U.S. Medical Insurance Costs\n",
    "### This project will attempt to gain some unique insights into the medical data set.\n",
    "### The goal is to identify areas to focus resources to improve certain subgroup members' health, and ultimately lower their insurance costs. \n",
    "\n",
    "#### As a project for a Python and Data Science beginner student, it will only employ the basic modules and techniques learned to this point in the Codecademy course.   The ability to graph will significantly improve the readability of this project, particularly in the \"In Depth Analysis\" section."
   ]
  },
  {
   "cell_type": "markdown",
   "metadata": {},
   "source": [
    "# Import modules"
   ]
  },
  {
   "cell_type": "code",
   "execution_count": 2,
   "metadata": {},
   "outputs": [],
   "source": [
    "import csv\n",
    "import statistics"
   ]
  },
  {
   "cell_type": "markdown",
   "metadata": {},
   "source": [
    "# Import data and store in a list of dictionaries"
   ]
  },
  {
   "cell_type": "code",
   "execution_count": 5,
   "metadata": {},
   "outputs": [
    {
     "name": "stdout",
     "output_type": "stream",
     "text": [
      "[{'age': '19', 'sex': 'female', 'bmi': '27.9', 'children': '0', 'smoker': 'yes', 'region': 'southwest', 'charges': '16884.924'}, {'age': '18', 'sex': 'male', 'bmi': '33.77', 'children': '1', 'smoker': 'no', 'region': 'southeast', 'charges': '1725.5523'}, {'age': '28', 'sex': 'male', 'bmi': '33', 'children': '3', 'smoker': 'no', 'region': 'southeast', 'charges': '4449.462'}, {'age': '33', 'sex': 'male', 'bmi': '22.705', 'children': '0', 'smoker': 'no', 'region': 'northwest', 'charges': '21984.47061'}, {'age': '32', 'sex': 'male', 'bmi': '28.88', 'children': '0', 'smoker': 'no', 'region': 'northwest', 'charges': '3866.8552'}, {'age': '31', 'sex': 'female', 'bmi': '25.74', 'children': '0', 'smoker': 'no', 'region': 'southeast', 'charges': '3756.6216'}, {'age': '46', 'sex': 'female', 'bmi': '33.44', 'children': '1', 'smoker': 'no', 'region': 'southeast', 'charges': '8240.5896'}, {'age': '37', 'sex': 'female', 'bmi': '27.74', 'children': '3', 'smoker': 'no', 'region': 'northwest', 'charges': '7281.5056'}, {'age': '37', 'sex': 'male', 'bmi': '29.83', 'children': '2', 'smoker': 'no', 'region': 'northeast', 'charges': '6406.4107'}, {'age': '60', 'sex': 'female', 'bmi': '25.84', 'children': '0', 'smoker': 'no', 'region': 'northwest', 'charges': '28923.13692'}]\n"
     ]
    }
   ],
   "source": [
    "with open('insurance.csv') as insurance_csv:\n",
    "    reader = csv.DictReader(insurance_csv)\n",
    "    insuranceList = list(reader)\n",
    "print(insuranceList[0:10])"
   ]
  },
  {
   "cell_type": "markdown",
   "metadata": {},
   "source": [
    "# Organize Data into subsets\n",
    "## Define resusable functions to create subsets"
   ]
  },
  {
   "cell_type": "code",
   "execution_count": 3,
   "metadata": {},
   "outputs": [],
   "source": [
    "def sortBySex(group):\n",
    "    males = []\n",
    "    females = []\n",
    "    for row in group:\n",
    "        if row['sex'] == 'male':\n",
    "            males.append(row)\n",
    "        if row['sex'] == 'female':\n",
    "            females.append(row)\n",
    "    return {\"M\" : males, \"F\" : females}"
   ]
  },
  {
   "cell_type": "code",
   "execution_count": 4,
   "metadata": {},
   "outputs": [
    {
     "name": "stdout",
     "output_type": "stream",
     "text": [
      "676\n",
      "662\n"
     ]
    }
   ],
   "source": [
    "#Male and Female subgroups\n",
    "allMales = sortBySex(insuranceList)[\"M\"]\n",
    "allFemales = sortBySex(insuranceList)[\"F\"]\n",
    "print(len(allMales))\n",
    "print(len(allFemales))"
   ]
  },
  {
   "cell_type": "code",
   "execution_count": 5,
   "metadata": {},
   "outputs": [],
   "source": [
    "def sortByRegion(group):\n",
    "    sw = []\n",
    "    se = []\n",
    "    nw = []\n",
    "    ne = []\n",
    "    for row in group:\n",
    "        if row['region'] == 'southwest':\n",
    "            sw.append(row)\n",
    "        elif row['region'] == 'southeast':\n",
    "            se.append(row)\n",
    "        elif row['region'] == 'northwest':\n",
    "            nw.append(row)\n",
    "        elif row['region'] == 'northeast':\n",
    "            ne.append(row)\n",
    "    return {'SW' : sw, 'SE' : se, 'NW' : nw, 'NE' : ne}"
   ]
  },
  {
   "cell_type": "code",
   "execution_count": 6,
   "metadata": {},
   "outputs": [
    {
     "name": "stdout",
     "output_type": "stream",
     "text": [
      "325\n",
      "364\n",
      "324\n",
      "325\n"
     ]
    }
   ],
   "source": [
    "# SW, SE, NW, NE subgroups\n",
    "allSW = sortByRegion(insuranceList)['SW']\n",
    "allSE = sortByRegion(insuranceList)['SE']\n",
    "allNW = sortByRegion(insuranceList)['NW']\n",
    "allNE = sortByRegion(insuranceList)['NE']\n",
    "print(len(allSW))\n",
    "print(len(allSE))\n",
    "print(len(allNE))\n",
    "print(len(allNW))"
   ]
  },
  {
   "cell_type": "code",
   "execution_count": 7,
   "metadata": {},
   "outputs": [],
   "source": [
    "def sortBySmoker(group):\n",
    "    smoker = []\n",
    "    non = []\n",
    "    for row in group:\n",
    "        if row['smoker'] == 'yes':\n",
    "            smoker.append(row)\n",
    "        elif row['smoker'] == 'no':\n",
    "            non.append(row)\n",
    "    return {'Smoker' : smoker, 'Non-smoker' : non}"
   ]
  },
  {
   "cell_type": "code",
   "execution_count": 8,
   "metadata": {},
   "outputs": [
    {
     "name": "stdout",
     "output_type": "stream",
     "text": [
      "274\n",
      "1064\n",
      "20.48% are smokers.\n"
     ]
    }
   ],
   "source": [
    "# smoker, non_smoker subgroups\n",
    "smokers = sortBySmoker(insuranceList)['Smoker']\n",
    "non_smokers = sortBySmoker(insuranceList)['Non-smoker']\n",
    "print(len(smokers))\n",
    "print(len(non_smokers))\n",
    "percentage_smoker = 100 * len(smokers)/(len(smokers) + len(non_smokers))\n",
    "print(str(round(percentage_smoker, 2)) + \"% are smokers.\")"
   ]
  },
  {
   "cell_type": "code",
   "execution_count": 9,
   "metadata": {
    "scrolled": true
   },
   "outputs": [],
   "source": [
    "def sortByParent(group):\n",
    "    parent = []\n",
    "    notParent = []\n",
    "    for row in group:\n",
    "        if int(row['children']) == 0:\n",
    "            notParent.append(row)\n",
    "        elif int(row['children']) > 0:\n",
    "            parent.append(row)\n",
    "    return {'Yes': parent, 'No': notParent}"
   ]
  },
  {
   "cell_type": "code",
   "execution_count": 10,
   "metadata": {},
   "outputs": [
    {
     "name": "stdout",
     "output_type": "stream",
     "text": [
      "764\n",
      "574\n"
     ]
    }
   ],
   "source": [
    "# parents, nonparents subgroups\n",
    "parents = sortByParent(insuranceList)['Yes']\n",
    "nonparents = sortByParent(insuranceList)['No']\n",
    "print(len(parents))\n",
    "print(len(nonparents))"
   ]
  },
  {
   "cell_type": "markdown",
   "metadata": {},
   "source": [
    "# Create other useful functions for analysis\n",
    "\n",
    "### For this project, I chose to create age and BMI groups rather than use linear progressions.  I think linear progressions might be more predictive, but this method will reveal non linear trends and possibly better identify specific groups to target for improvement."
   ]
  },
  {
   "cell_type": "code",
   "execution_count": 34,
   "metadata": {},
   "outputs": [
    {
     "name": "stdout",
     "output_type": "stream",
     "text": [
      "13270.42\n"
     ]
    }
   ],
   "source": [
    "# average insurance cost\n",
    "def averageCost(group):\n",
    "    charges = []\n",
    "    for row in group:\n",
    "        charges.append(float(row['charges']))\n",
    "    return round(statistics.mean(charges), 2)\n",
    "print(averageCost(insuranceList))"
   ]
  },
  {
   "cell_type": "code",
   "execution_count": 12,
   "metadata": {},
   "outputs": [
    {
     "name": "stdout",
     "output_type": "stream",
     "text": [
      "30.75\n",
      "30.55\n"
     ]
    }
   ],
   "source": [
    "# average BMI\n",
    "def averageBMI(group):\n",
    "    bmis = []\n",
    "    for row in group:\n",
    "        bmis.append(float(row['bmi']))\n",
    "    return round(statistics.mean(bmis), 2)\n",
    "print(averageBMI(parents))\n",
    "print(averageBMI(nonparents))"
   ]
  },
  {
   "cell_type": "code",
   "execution_count": 13,
   "metadata": {},
   "outputs": [
    {
     "name": "stdout",
     "output_type": "stream",
     "text": [
      "20.48\n"
     ]
    }
   ],
   "source": [
    "def percentSmoker(group):\n",
    "    dosmoke = 0\n",
    "    for row in group:\n",
    "        if row['smoker'] == 'yes':\n",
    "            dosmoke += 1\n",
    "    return round(100 * (dosmoke/len(group)), 2)\n",
    "print(percentSmoker(insuranceList))"
   ]
  },
  {
   "cell_type": "code",
   "execution_count": 14,
   "metadata": {},
   "outputs": [
    {
     "name": "stdout",
     "output_type": "stream",
     "text": [
      "18-29 : 417\n",
      "30s : 257\n",
      "40s : 279\n",
      "50s : 271\n",
      "60s : 114\n"
     ]
    }
   ],
   "source": [
    "# sort by age\n",
    "def byAge(group):\n",
    "    twenties = []\n",
    "    thirties = []\n",
    "    forties = []\n",
    "    fifties =[]\n",
    "    sixties = []\n",
    "    for row in group:\n",
    "        age = int(row['age'])\n",
    "        if age < 30:\n",
    "            twenties.append(row)\n",
    "        elif 30 <= age < 40:\n",
    "            thirties.append(row)\n",
    "        elif 40 <= age < 50:\n",
    "            forties.append(row)\n",
    "        elif 50 <= age < 60:\n",
    "            fifties.append(row)\n",
    "        elif 60 <= age < 70:\n",
    "            sixties.append(row)\n",
    "        \n",
    "    return {'18-29': twenties, '30s': thirties, '40s': forties, '50s': fifties, \\\n",
    "           '60s': sixties}\n",
    "\n",
    "for key, value in byAge(insuranceList).items():\n",
    "    print(key, ':', len(value))\n"
   ]
  },
  {
   "cell_type": "code",
   "execution_count": 15,
   "metadata": {},
   "outputs": [
    {
     "name": "stdout",
     "output_type": "stream",
     "text": [
      "Average BMI's by age in Total Dataset:\n",
      "{'18-29': 29.85, '30s': 30.44, '40s': 30.71, '50s': 31.51, '60s': 32.02}\n"
     ]
    }
   ],
   "source": [
    "# Average BMI by age\n",
    "def bmiByAge(group, groupname):\n",
    "    bmiByAge = {}\n",
    "    for key, value in byAge(group).items():\n",
    "        bmiByAge[key] = averageBMI(value)\n",
    "    print(\"Average BMI's by age in {}:\". format(groupname))\n",
    "    print(bmiByAge)\n",
    "bmiByAge(insuranceList, \"Total Dataset\")"
   ]
  },
  {
   "cell_type": "code",
   "execution_count": 16,
   "metadata": {},
   "outputs": [
    {
     "name": "stdout",
     "output_type": "stream",
     "text": [
      "Underweight 20\n",
      "Normal 225\n",
      "Overweight 386\n",
      "Obese 707\n"
     ]
    }
   ],
   "source": [
    "# Sort by BMI\n",
    "def byBmi(group):\n",
    "    underweight = []\n",
    "    normal = []\n",
    "    overweight = []\n",
    "    obese = []\n",
    "    for row in group:\n",
    "        bmi = float(row['bmi'])\n",
    "        if bmi < 18.5:\n",
    "            underweight.append(row)\n",
    "        elif 18.5 <= bmi < 25:\n",
    "            normal.append(row)\n",
    "        elif 25 <= bmi < 30:\n",
    "            overweight.append(row)\n",
    "        elif bmi >= 30:\n",
    "            obese.append(row)\n",
    "    return {'Underweight': underweight, 'Normal': normal, 'Overweight': overweight, 'Obese': obese}\n",
    "\n",
    "for key, value in byBmi(insuranceList).items():\n",
    "    print(key, len(value))\n"
   ]
  },
  {
   "cell_type": "markdown",
   "metadata": {},
   "source": [
    "# Basic Analysis"
   ]
  },
  {
   "cell_type": "code",
   "execution_count": 17,
   "metadata": {},
   "outputs": [
    {
     "name": "stdout",
     "output_type": "stream",
     "text": [
      "Age (18-29): Average cost of 9182.49\n",
      "Age (30s): Average cost of 11738.78\n",
      "Age (40s): Average cost of 14399.2\n",
      "Age (50s): Average cost of 16495.23\n",
      "Age (60s): Average cost of 21248.02\n"
     ]
    }
   ],
   "source": [
    "# Obvious factor in insurance cost... Age!  Sadly, this factor is not addressable.\n",
    "for key, value in byAge(insuranceList).items():\n",
    "        print('Age ({}): Average cost of {}'.format(key, str(averageCost(value))))"
   ]
  },
  {
   "cell_type": "code",
   "execution_count": 18,
   "metadata": {
    "scrolled": true
   },
   "outputs": [
    {
     "name": "stdout",
     "output_type": "stream",
     "text": [
      "Cost for Smokers: 32050.23\n",
      "Cost for Non Smokers: 8434.27\n"
     ]
    }
   ],
   "source": [
    "# The greatest factor in insurance cost: smokers vs. non smokers\n",
    "print('Cost for Smokers:', averageCost(smokers))\n",
    "print('Cost for Non Smokers:', averageCost(non_smokers))"
   ]
  },
  {
   "cell_type": "code",
   "execution_count": 19,
   "metadata": {},
   "outputs": [
    {
     "name": "stdout",
     "output_type": "stream",
     "text": [
      "{'SE smokers': 25.0, 'SW smokers': 17.85, 'NE smokers': 20.68, 'NW smokers': 17.85}\n"
     ]
    }
   ],
   "source": [
    "# percent smokers per region\n",
    "rs = {}\n",
    "rs['SE smokers'] = percentSmoker(allSE)\n",
    "rs['SW smokers'] = percentSmoker(allSW)\n",
    "rs['NE smokers'] = percentSmoker(allNE)\n",
    "rs['NW smokers'] = percentSmoker(allNW)\n",
    "print(rs)"
   ]
  },
  {
   "cell_type": "code",
   "execution_count": 20,
   "metadata": {},
   "outputs": [
    {
     "name": "stdout",
     "output_type": "stream",
     "text": [
      "{'SE bmi': 33.36, 'SW bmi': 30.6, 'NE bmi': 29.17, 'NW bmi': 29.2}\n"
     ]
    }
   ],
   "source": [
    "# Average BMI per region\n",
    "bmiPerRegion = {}\n",
    "bmiPerRegion['SE bmi'] = averageBMI(allSE)\n",
    "bmiPerRegion['SW bmi'] = averageBMI(allSW)\n",
    "bmiPerRegion['NE bmi'] = averageBMI(allNE)\n",
    "bmiPerRegion['NW bmi'] = averageBMI(allNW)\n",
    "print(bmiPerRegion)"
   ]
  },
  {
   "cell_type": "code",
   "execution_count": 21,
   "metadata": {},
   "outputs": [
    {
     "name": "stdout",
     "output_type": "stream",
     "text": [
      "{'SE cost': 14735.41, 'SW cost': 12346.94, 'NE cost': 13406.38, 'NW cost': 12417.58}\n"
     ]
    }
   ],
   "source": [
    "# Average insurance cost per region\n",
    "costPerRegion = {}\n",
    "costPerRegion['SE cost'] = averageCost(allSE)\n",
    "costPerRegion['SW cost'] = averageCost(allSW)\n",
    "costPerRegion['NE cost'] = averageCost(allNE)\n",
    "costPerRegion['NW cost'] = averageCost(allNW)\n",
    "print(costPerRegion)\n",
    "# Is cost of living a factor in insurance costs?\n",
    "## E.g., does BCBS of CA charge more than MN in order to compensate employees?\n",
    "### Smoking % equal, yet NW insurance more than SW despite lower BMI.  "
   ]
  },
  {
   "cell_type": "code",
   "execution_count": 22,
   "metadata": {},
   "outputs": [
    {
     "name": "stdout",
     "output_type": "stream",
     "text": [
      "Parent smoke %: 20.81\n",
      "Nonparent smoke %: 20.03\n"
     ]
    }
   ],
   "source": [
    "# percent smokers among parents\n",
    "print('Parent smoke %:', percentSmoker(parents))\n",
    "print('Nonparent smoke %:', percentSmoker(nonparents))\n",
    "# Data indicates smokers are generally \"formed\" before they become parents"
   ]
  },
  {
   "cell_type": "code",
   "execution_count": 23,
   "metadata": {},
   "outputs": [
    {
     "name": "stdout",
     "output_type": "stream",
     "text": [
      "Males: 23.52\n",
      "Females: 17.37\n"
     ]
    }
   ],
   "source": [
    "# percent smokers by sex\n",
    "print('Males:', percentSmoker(allMales))\n",
    "print('Females:', percentSmoker(allFemales))"
   ]
  },
  {
   "cell_type": "code",
   "execution_count": 24,
   "metadata": {
    "scrolled": true
   },
   "outputs": [
    {
     "name": "stdout",
     "output_type": "stream",
     "text": [
      "Cost for Males: 13956.75\n",
      "Cost for Females: 12569.58\n"
     ]
    }
   ],
   "source": [
    "# insurance cost by sex\n",
    "print('Cost for Males:', averageCost(allMales))\n",
    "print('Cost for Females:', averageCost(allFemales))"
   ]
  },
  {
   "cell_type": "code",
   "execution_count": 25,
   "metadata": {
    "scrolled": false
   },
   "outputs": [
    {
     "name": "stdout",
     "output_type": "stream",
     "text": [
      "Cost for Parents: 13949.94\n",
      "Cost for Non Parents: 12365.98\n"
     ]
    }
   ],
   "source": [
    "#insurance cost for parents\n",
    "print('Cost for Parents:', averageCost(parents))\n",
    "print('Cost for Non Parents:', averageCost(nonparents))"
   ]
  },
  {
   "cell_type": "markdown",
   "metadata": {},
   "source": [
    "# More in depth analysis\n",
    "## Variances in BMI by age between groups could identify areas to focus for exercise or diet programs"
   ]
  },
  {
   "cell_type": "code",
   "execution_count": 26,
   "metadata": {},
   "outputs": [
    {
     "name": "stdout",
     "output_type": "stream",
     "text": [
      "Moms: {'18-29': 28.97, '30s': 29.79, '40s': 30.58, '50s': 31.58, '60s': 33.71}\n",
      "Not Moms: {'18-29': 30.0, '30s': 29.63, '40s': 31.82, '50s': 30.65, '60s': 30.41}\n"
     ]
    }
   ],
   "source": [
    "# how does BMI change for mothers vs. nonmothers as they age?\n",
    "## -sort out women from group parents \n",
    "mothers = sortBySex(parents)['F']\n",
    "notmothers = sortBySex(nonparents)['F']\n",
    "### copy bmiByAge for these two groups\n",
    "momBmiByAge = {}\n",
    "for key, value in byAge(mothers).items():\n",
    "    momBmiByAge[key] = averageBMI(value)\n",
    "notmomBmiByAge = {}\n",
    "for key, value in byAge(notmothers).items():\n",
    "    notmomBmiByAge[key] = averageBMI(value)\n",
    "print('Moms:', momBmiByAge)\n",
    "print('Not Moms:', notmomBmiByAge)"
   ]
  },
  {
   "cell_type": "code",
   "execution_count": 27,
   "metadata": {
    "scrolled": true
   },
   "outputs": [
    {
     "name": "stdout",
     "output_type": "stream",
     "text": [
      "Dads: {'18-29': 30.12, '30s': 31.34, '40s': 30.68, '50s': 32.48, '60s': 31.92}\n",
      "Not Dads: {'18-29': 30.06, '30s': 30.25, '40s': 29.99, '50s': 31.18, '60s': 33.12}\n"
     ]
    }
   ],
   "source": [
    "# findings of mom BMI are surprising.  How about Dads?\n",
    "## BmiByAge should be a function. Changed above...\n",
    "fathers = sortBySex(parents)['M']\n",
    "notfathers = sortBySex(nonparents)['M']\n",
    "dadBmiByAge = {}\n",
    "for key, value in byAge(fathers).items():\n",
    "    dadBmiByAge[key] = averageBMI(value)\n",
    "notdadBmiByAge = {}\n",
    "for key, value in byAge(notfathers).items():\n",
    "    notdadBmiByAge[key] = averageBMI(value)\n",
    "print('Dads:', dadBmiByAge)\n",
    "print('Not Dads:', notdadBmiByAge)\n",
    "# \"Dad Bod\" appears to exist until the sixties, then dads improve.  \"Granddad Bod\"?"
   ]
  },
  {
   "cell_type": "code",
   "execution_count": 28,
   "metadata": {
    "scrolled": true
   },
   "outputs": [
    {
     "name": "stdout",
     "output_type": "stream",
     "text": [
      "Average BMI's by age in Smokers:\n",
      "{'18-29': 30.43, '30s': 30.54, '40s': 30.14, '50s': 31.66, '60s': 31.79}\n",
      "Average BMI's by age in Non-Smokers:\n",
      "{'18-29': 29.7, '30s': 30.42, '40s': 30.87, '50s': 31.48, '60s': 32.09}\n"
     ]
    }
   ],
   "source": [
    "# smokers BMI by age:\n",
    "bmiByAge(smokers, \"Smokers\")\n",
    "bmiByAge(non_smokers, \"Non-Smokers\")\n",
    "# 75% greater increase in BMI from 20's to 60's in non smokers"
   ]
  },
  {
   "cell_type": "code",
   "execution_count": 29,
   "metadata": {},
   "outputs": [
    {
     "name": "stdout",
     "output_type": "stream",
     "text": [
      "Average BMI's by age in NE:\n",
      "{'18-29': 28.0, '30s': 28.46, '40s': 29.59, '50s': 30.45, '60s': 30.98}\n",
      "Average BMI's by age in SE:\n",
      "{'18-29': 33.3, '30s': 33.61, '40s': 32.75, '50s': 33.7, '60s': 33.77}\n",
      "Average BMI's by age in NW:\n",
      "{'18-29': 28.54, '30s': 28.39, '40s': 30.26, '50s': 29.95, '60s': 29.18}\n",
      "Average BMI's by age in SW:\n",
      "{'18-29': 29.08, '30s': 30.95, '40s': 29.87, '50s': 31.82, '60s': 33.91}\n"
     ]
    }
   ],
   "source": [
    "# BMI by age per region:\n",
    "bmiByAge(allNE, \"NE\")\n",
    "bmiByAge(allSE, \"SE\")\n",
    "bmiByAge(allNW, \"NW\")\n",
    "bmiByAge(allSW, \"SW\")\n",
    "# Wow, what conclusions does this lead to? \n",
    "# For one, hotter climates may lead to greater increase in BMI from age 50 on.\n",
    "## Do higher rates of smoking in the east account for any of this?"
   ]
  },
  {
   "cell_type": "markdown",
   "metadata": {},
   "source": [
    "## Do smoking habits change by age group?"
   ]
  },
  {
   "cell_type": "code",
   "execution_count": 30,
   "metadata": {
    "scrolled": true
   },
   "outputs": [
    {
     "name": "stdout",
     "output_type": "stream",
     "text": [
      "{'18-29': 20.62}\n",
      "{'30s': 22.57}\n",
      "{'40s': 22.22}\n",
      "{'50s': 15.13}\n",
      "{'60s': 23.68}\n"
     ]
    }
   ],
   "source": [
    "for key, value in byAge(insuranceList).items():\n",
    "    smokeByAge = {key: percentSmoker(value)}\n",
    "    print(smokeByAge)"
   ]
  },
  {
   "cell_type": "code",
   "execution_count": 31,
   "metadata": {},
   "outputs": [
    {
     "name": "stdout",
     "output_type": "stream",
     "text": [
      "Parents:\n",
      "{'18-29': 19.54}\n",
      "{'30s': 22.05}\n",
      "{'40s': 21.13}\n",
      "{'50s': 18.24}\n",
      "{'60s': 29.41}\n",
      "Nonparents:\n",
      "{'18-29': 21.4}\n",
      "{'30s': 24.19}\n",
      "{'40s': 25.76}\n",
      "{'50s': 11.38}\n",
      "{'60s': 21.25}\n"
     ]
    }
   ],
   "source": [
    "print(\"Parents:\")\n",
    "for key, value in byAge(parents).items():\n",
    "    smokeByAge = {key: percentSmoker(value)}\n",
    "    print(smokeByAge)\n",
    "print(\"Nonparents:\")\n",
    "for key, value in byAge(nonparents).items():\n",
    "    smokeByAge = {key: percentSmoker(value)}\n",
    "    print(smokeByAge)\n",
    "# This is probably a reflection demographics (smoker health education in the 1980's vs. the 1960's per se),\n",
    "# combined with better education about smoke and children.\n",
    "## It may be useful to target empty nest parents with anti smoking campaigns.  "
   ]
  },
  {
   "cell_type": "markdown",
   "metadata": {},
   "source": [
    "## Average Insurance Cost per BMI range"
   ]
  },
  {
   "cell_type": "code",
   "execution_count": 32,
   "metadata": {},
   "outputs": [
    {
     "name": "stdout",
     "output_type": "stream",
     "text": [
      "Underweight 8852.2\n",
      "Normal 10409.34\n",
      "Overweight 10987.51\n",
      "Obese 15552.34\n"
     ]
    }
   ],
   "source": [
    "for key, value in byBmi(insuranceList).items():\n",
    "    print(key, averageCost(value))"
   ]
  },
  {
   "cell_type": "code",
   "execution_count": 33,
   "metadata": {},
   "outputs": [
    {
     "name": "stdout",
     "output_type": "stream",
     "text": [
      "Males:\n",
      "Underweight 5611.71\n",
      "Normal 9868.02\n",
      "Overweight 11381.95\n",
      "Obese 16610.45\n",
      "Females:\n",
      "Underweight 11012.53\n",
      "Normal 10909.02\n",
      "Overweight 10616.85\n",
      "Obese 14370.67\n"
     ]
    }
   ],
   "source": [
    "print('Males:')\n",
    "for key, value in byBmi(allMales).items():\n",
    "    print(key,averageCost(value))\n",
    "print('Females:')\n",
    "for key, value in byBmi(allFemales).items():\n",
    "    print(key, averageCost(value))\n",
    "# BMI is a much greater determining factor of insurance cost for men vs. women"
   ]
  },
  {
   "cell_type": "markdown",
   "metadata": {},
   "source": [
    "# Conclusions\n",
    "\n",
    "## Smoking is the number one factor in higher health insurance costs.\n",
    "### Not surprisingly, the data indicates that smokers choose the smoking habit at an early age.  So smoking education has to start early.  The data indicates that education about children and second hand smoke might be might be working, but the expense of smoking may be a factor in the lower rates of smoking for younger parents.  The older parents (now grandparents) rate of smoking is an identifiable area to target for improvement.  \n",
    "\n",
    "## The unhealthiest region of the U.S. is the Southeast.  \n",
    "### In the Southeast, smoking rates are more than 25% higher than the rest of the country, and BMI numbers are significantly worse.  This is an area to focus resources to make exercise programs more easily available, and improve diet and smoking education.  Exercise program accesibility improvements would likely pay greater dividends in the Southern half of the U.S., as BMI's appear to increase more quickly there.\n",
    "\n",
    "## BMI differences account for much larger insurance costs in men than women\n",
    "### This is likely a reflection of greater health consequences overall for obesity in men versus women.  (Weight gain in mothers may be more normal and healthy?)  Aging men (particularly nonsmokers, nonparents) appear to be a very useful demographic to target.  As a parent of a young child, I expected greater differences in BMI between parents and non parents.  While this doesn't seem to be a significant area of focus, there is a definitive leap in mother's  BMIs in their 60's.  This could simply be a result of a small sample size, but it also could reflect normal hormonal changes.  This demographic might be another group to target for improvement.  "
   ]
  }
 ],
 "metadata": {
  "kernelspec": {
   "display_name": "Python 3",
   "language": "python",
   "name": "python3"
  },
  "language_info": {
   "codemirror_mode": {
    "name": "ipython",
    "version": 3
   },
   "file_extension": ".py",
   "mimetype": "text/x-python",
   "name": "python",
   "nbconvert_exporter": "python",
   "pygments_lexer": "ipython3",
   "version": "3.8.3"
  }
 },
 "nbformat": 4,
 "nbformat_minor": 4
}
